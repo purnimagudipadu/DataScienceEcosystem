{
 "cells": [
  {
   "cell_type": "markdown",
   "id": "3933038c",
   "metadata": {},
   "source": [
    "<h1>Data ScienceTools and Ecosystem</h1>"
   ]
  },
  {
   "cell_type": "markdown",
   "id": "9d1d8b0a",
   "metadata": {},
   "source": [
    "This notebook contain the summary of data science tools and ecosystem"
   ]
  },
  {
   "cell_type": "markdown",
   "id": "1fd69d3e",
   "metadata": {},
   "source": [
    "<h3><strong>Objectives</strong></h3>\n",
    "<ul>\n",
    "    <li>Popular Languages that are used in Data Scientists</li>\n",
    "    <li>Libaries used by Data Scientists</li>\n",
    "    <li>Open source tools used in data science</li>\n",
    "    <li>Few examples of arithmetic expressions</li>\n",
    "    <li>code to multiply and add numbers</li>\n",
    "  </ul>"
   ]
  },
  {
   "cell_type": "markdown",
   "id": "32116afc",
   "metadata": {},
   "source": [
    "<h3>popular languages that are used in Data Scientists</h3>\n",
    "<ol>\n",
    "<li>python</li>\n",
    "<li>scala</li>\n",
    "<li>c++</li>\n",
    "<li>julia</li>\n",
    "<li>javascript</li>\n",
    "</ol>"
   ]
  },
  {
   "cell_type": "markdown",
   "id": "4466e0be",
   "metadata": {},
   "source": [
    "<h3>Libararies used by Data Scientists</h3>\n",
    "<ol>\n",
    "<li>Scientifics Computing Libraries</li>\n",
    "<li>Visualization Libraries</li>\n",
    "<li>Machine Learning and Deep Learning Libararies</li>\n",
    "<li>Scala Libraries</li>\n",
    "<li> R Libraries</li>\n",
    "</ol>"
   ]
  },
  {
   "cell_type": "markdown",
   "id": "75d526eb",
   "metadata": {},
   "source": [
    "<h3>Development environment open source tools used in data science</h3>\n",
    "<table>\n",
    "    <th>Data Science Tools</th>\n",
    "    <tr>\n",
    "    <td>RStudio</td>\n",
    "    </tr>\n",
    "    <tr>\n",
    "    <td>Apache Spark</td>\n",
    "    </tr>\n",
    "    <tr>\n",
    "    <td>TensorFlow</td>\n",
    "    </tr>\n",
    "    <tr>\n",
    "    <td>Apache Hadoop</td>\n",
    "    </tr>\n",
    "    <tr>\n",
    "    <td>IBM SPSS</td>\n",
    "    <tr>\n",
    "    <td>Julia</td>\n",
    "    </tr>\n",
    "</table>"
   ]
  },
  {
   "cell_type": "markdown",
   "id": "99fc07eb",
   "metadata": {},
   "source": [
    "<h3>Few examples arithmetic expressions in python</h3>"
   ]
  },
  {
   "cell_type": "code",
   "execution_count": 4,
   "id": "b5adca92",
   "metadata": {},
   "outputs": [
    {
     "data": {
      "text/plain": [
       "17"
      ]
     },
     "execution_count": 4,
     "metadata": {},
     "output_type": "execute_result"
    }
   ],
   "source": [
    "#A simple arithmetic expression to mutiply and add intergers\n",
    "(3*4)+5"
   ]
  },
  {
   "cell_type": "code",
   "execution_count": 5,
   "id": "95d79f1d",
   "metadata": {},
   "outputs": [
    {
     "data": {
      "text/plain": [
       "3.3333333333333335"
      ]
     },
     "execution_count": 5,
     "metadata": {},
     "output_type": "execute_result"
    }
   ],
   "source": [
    "# converting 200 minutes to hours\n",
    "200/60"
   ]
  },
  {
   "cell_type": "markdown",
   "id": "3cec175e",
   "metadata": {},
   "source": [
    "<h2>Author</h2>\n",
    "Purnima"
   ]
  },
  {
   "cell_type": "code",
   "execution_count": null,
   "id": "e1f7d722",
   "metadata": {},
   "outputs": [],
   "source": []
  }
 ],
 "metadata": {
  "kernelspec": {
   "display_name": "Python 3 (ipykernel)",
   "language": "python",
   "name": "python3"
  },
  "language_info": {
   "codemirror_mode": {
    "name": "ipython",
    "version": 3
   },
   "file_extension": ".py",
   "mimetype": "text/x-python",
   "name": "python",
   "nbconvert_exporter": "python",
   "pygments_lexer": "ipython3",
   "version": "3.9.12"
  }
 },
 "nbformat": 4,
 "nbformat_minor": 5
}
